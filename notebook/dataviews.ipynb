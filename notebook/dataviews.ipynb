{
 "cells": [
  {
   "cell_type": "code",
   "execution_count": 4,
   "id": "6c856ca4",
   "metadata": {},
   "outputs": [],
   "source": [
    "from pathlib import Path\n",
    "import pandas as pd"
   ]
  },
  {
   "cell_type": "code",
   "execution_count": null,
   "id": "a9094880",
   "metadata": {},
   "outputs": [],
   "source": [
    "spans_path = Path(\"../output/mvs/ch01/spans.jsonl\")\n",
    "spans_df = pd.read_json(spans_path, lines=True)"
   ]
  },
  {
   "cell_type": "code",
   "execution_count": 12,
   "id": "bbcdca27",
   "metadata": {},
   "outputs": [
    {
     "data": {
      "application/vnd.microsoft.datawrangler.viewer.v0+json": {
       "columns": [
        {
         "name": "index",
         "rawType": "int64",
         "type": "integer"
        },
        {
         "name": "role",
         "rawType": "object",
         "type": "string"
        },
        {
         "name": "text_norm",
         "rawType": "object",
         "type": "string"
        }
       ],
       "ref": "33d6336c-d4d7-45d5-811e-45b7893584fc",
       "rows": [
        [
         "0",
         "mixed",
         "Chapter 1: Just an old Book"
        ],
        [
         "1",
         "dialogue",
         "\"Try not to die by tripping over yourself, Quinn!\""
        ],
        [
         "2",
         "narration",
         "A boy shouted down the hallway, laughing uncontrollably right after."
        ],
        [
         "3",
         "narration",
         "Quinn dismissed the petty mockery as he carried on walking down the school corridor. The harassment had become a daily occurrence for him, but it still bothered him just as much as it did every other day. Thus, he wasn't able to hold back his desire to retaliate."
        ],
        [
         "4",
         "narration",
         "Quinn slowed down his stride and stopped. He pushed his glasses back up onto the ridge of his nose as they had slipped down from his face. Just from looking at the glasses, it was clear that he needed a new pair - One could tell that they were heavily worn. The glasses looked crooked as he wore them, and even the temples had tape covering them."
        ],
        [
         "5",
         "narration",
         "He then turned around and immediately raised his middle finger, responding to the slander,"
        ],
        [
         "6",
         "dialogue",
         "\"I bet you don't even know how many fingers I'm holding up!\""
        ],
        [
         "7",
         "mixed",
         "Upon hearing the taunt, the boy clenched his fist and started running towards Quinn."
        ],
        [
         "8",
         "dialogue",
         "\"You level 1 piece of crap! When are you going to learn that you don't belong in this world?\""
        ],
        [
         "9",
         "narration",
         "The boy placed both of his hands together, and a green ball of light started to form between them. When he was only a few meters away from Quinn, the boy threw his hands forward and a green beam shot out from the palm of his hands."
        ],
        [
         "10",
         "mixed",
         "Quinn had nowhere to go, and the ray of light was too fast for him to dodge. Hence, he knew that all he could do was grit his teeth and bear the pain. As the light hit him, his body was lifted into the air and sent flying backward on to the far end corridor wall."
        ],
        [
         "11",
         "dialogue",
         "\"What's going on?\""
        ],
        [
         "12",
         "narration",
         "A student among the crowd said."
        ],
        [
         "13",
         "dialogue",
         "\"Are they fighting on the last day of school?\""
        ],
        [
         "14",
         "mixed",
         "A crowd had immediately formed outside, interested in what the commotion was all about. One of the female students ran over to the wall's damaged part to check on the assaulted student's safety."
        ],
        [
         "15",
         "mixed",
         "As the dust started to settle down, Quinn's slightly curly black hair slowly came into view. When the smoke eventually cleared up, the female student finally saw who it was. She instantly backed away and continued on with her business as if nothing happened."
        ],
        [
         "16",
         "narration",
         "The moment that the female student had returned to her friends, he could see that they were laughing at her."
        ],
        [
         "17",
         "dialogue",
         "\"I can't believe you tried to help him.\""
        ],
        [
         "18",
         "dialogue",
         "\"I didn't see who it was.\""
        ],
        [
         "19",
         "narration",
         "The girl retorted, her cheeks flushed."
        ],
        [
         "20",
         "narration",
         "After that, Quinn stood up and lifted his glasses that were thrown on the floor. To his dismay, one of the hinges had fallen off once again. Instead of wearing the worn-out pair, he let it hang on his hand."
        ],
        [
         "21",
         "dialogue",
         "\"Damn it. Not again...\""
        ],
        [
         "22",
         "mixed",
         "It was the last day of school for Quinn, so he hoped that someone wouldn't try anything with him. He was sick and tired of their doings, but he wasn't the type to ignore those either. He had seen people who had chosen to keep their heads down and tolerate the harassment. However, their treatment was far worse than what he received."
        ],
        [
         "23",
         "mixed",
         "He didn't bother to stay at school like the rest of the students, he picked up his broken glasses and proceeded to leave school. As he walked past, he saw the students having conversations among themselves in their circles. Some were laughing while some had tears, thinking it was the last time they would ever see each other again. However, Quinn wasn't a part of any of that and he didn't want to be. Cliques would not welcome him anyway. He was the weird one."
        ],
        [
         "24",
         "narration",
         "When he finally arrived home, he immediately went to work. Living in a single bedroom apartment with just enough space to fit a single bed and desk was enough for him. A TV was mounted on the wall, but Quinn would merely use it as a background noise source and didn't watch anything."
        ],
        [
         "25",
         "narration",
         "The apartment was provided to him by the government since he had no living relatives and was only sixteen years of age. On top of his bed was a single suitcase that contained all of his belongings that were neatly packed."
        ],
        [
         "26",
         "narration",
         "He walked towards a cabinet, immediately pulling a drawer open which accommodated a single book. It was a large and thick hard-bound book, weighing about half a kilo. The front cover of the book was in a colour that mimicked a lighter shade of blood. In the centre, the lonesome fronts of an upper and lower jaw bone could be seen, both coloured in the swampy shade of brown. The upper jaw sort of had four separated fangs. Meanwhile, the lower one had two sharp teeth on the two far ends on the overhead and five evenly spaced underneath."
        ],
        [
         "27",
         "dialogue",
         "\"Let's try again today,\""
        ],
        [
         "28",
         "narration",
         "Quinn said as he lifted the book and placed it on top of the desk."
        ],
        [
         "29",
         "mixed",
         "He then quickly went to his bag to pull out a little test tube that was half-filled with a colourless liquid."
        ],
        [
         "30",
         "dialogue",
         "\"Test 112, Hydrochloric acid. Let's see how it goes?\""
        ],
        [
         "31",
         "narration",
         "He then started to slowly pour the liquid out of the test tube onto the book."
        ],
        [
         "32",
         "dialogue",
         "\"So far, there is no reaction.\""
        ],
        [
         "33",
         "narration",
         "He proceeded to continue to pour all of the test tube contents on the book, but there was no reaction at the end of his experiment."
        ],
        [
         "34",
         "mixed",
         "Carefully, he examined the book while jotting down the results in his notebook. Seeing if there was any damage done, yet the book looked the same as always."
        ],
        [
         "35",
         "dialogue",
         "\"Another failure. Why won't you open? Why did mum and dad even have this thing?\""
        ],
        [
         "36",
         "mixed",
         "One hundred and twelve times - This was the number of different ways that Quinn had tried to open the book. Not only did the book not open, but it seemed like it cannot be damaged either. He had even tried burning the book, cutting the book, melting the book, though nothing had worked against the book that seemed utterly durable."
        ],
        [
         "37",
         "mixed",
         "Lying on his bed, he turned on the TV for its sole purpose, making background noises. He never really paid attention to what was on. With it, the sound of other voices made him feel less lonely."
        ],
        [
         "38",
         "mixed",
         "Upon turning on, the TV displayed an ongoing NEWS show."
        ],
        [
         "39",
         "dialogue",
         "\"The peace treaty with the Dalki race has lasted for five years now, but officials are saying that tension is rising once again. Now, we must prepare for another war....\""
        ],
        [
         "40",
         "narration",
         "The mention of war had always been shown on the TV nonstop ever since a certain day thirty years ago. The human race received a visit from the so-called Dalki. They had the physique of humans, except for their skins that were riddled with scales and the presence of tails that were similar to what the dragons had."
        ],
        [
         "41",
         "mixed",
         "With no real clue of why they had suddenly appeared, they immediately demanded that the Human race hand over their resources and wanted to use them as slaves. Of course, the humans decided to fight back, but they quickly found out that their modern technology was useless against them. Bullets couldn't penetrate their skin, and as for tanks, well, Dalki had airships."
        ],
        [
         "42",
         "narration",
         "Every individual, disregarding the gender, was told to fight for their planet, and that included Quinn's parents. The war went on for years, so he grew up not knowing what his parents looked like."
        ],
        [
         "43",
         "mixed",
         "When the humans were on the brink of defeat, a select group of people came forward - These people had special abilities. They began sharing their knowledge of how they obtained such power in hopes of turning the tide in the war, and"
        ],
        [
         "44",
         "mixed",
         "thankfully, it worked. Even so, the Dalki were still strong, and a seemingly endless stalemate led to the peace treaty signing five years ago."
        ],
        [
         "45",
         "mixed",
         "Obviously enough, human greed got the better of humanity, and instead of sharing these powers with everybody else, the higher-ranked governmental officials decided to keep them for themselves. Only those with money could learn the more powerful abilities while everyone else was left with scraps."
        ],
        [
         "46",
         "mixed",
         "It was something that needed to be done. Poverty had taken over the world, but people had powers and were using them uncontrollably, unlike before."
        ],
        [
         "47",
         "narration",
         "Quinn was given nothing when his parents died. The government agreed to pay for his living expenses while he was still in school, but that was it. When his parents died, him being at the age of ten, an agent appeared at his doorstep and handed him a book. He was told that it was the only thing that his parents possessed - One that they passed down when they died."
        ],
        [
         "48",
         "dialogue",
         "\"Why is the world so unfair?\""
        ],
        [
         "49",
         "narration",
         "He uttered, lamenting about his situation."
        ]
       ],
       "shape": {
        "columns": 2,
        "rows": 66
       }
      },
      "text/html": [
       "<div>\n",
       "<style scoped>\n",
       "    .dataframe tbody tr th:only-of-type {\n",
       "        vertical-align: middle;\n",
       "    }\n",
       "\n",
       "    .dataframe tbody tr th {\n",
       "        vertical-align: top;\n",
       "    }\n",
       "\n",
       "    .dataframe thead th {\n",
       "        text-align: right;\n",
       "    }\n",
       "</style>\n",
       "<table border=\"1\" class=\"dataframe\">\n",
       "  <thead>\n",
       "    <tr style=\"text-align: right;\">\n",
       "      <th></th>\n",
       "      <th>role</th>\n",
       "      <th>text_norm</th>\n",
       "    </tr>\n",
       "  </thead>\n",
       "  <tbody>\n",
       "    <tr>\n",
       "      <th>0</th>\n",
       "      <td>mixed</td>\n",
       "      <td>Chapter 1: Just an old Book</td>\n",
       "    </tr>\n",
       "    <tr>\n",
       "      <th>1</th>\n",
       "      <td>dialogue</td>\n",
       "      <td>\"Try not to die by tripping over yourself, Qui...</td>\n",
       "    </tr>\n",
       "    <tr>\n",
       "      <th>2</th>\n",
       "      <td>narration</td>\n",
       "      <td>A boy shouted down the hallway, laughing uncon...</td>\n",
       "    </tr>\n",
       "    <tr>\n",
       "      <th>3</th>\n",
       "      <td>narration</td>\n",
       "      <td>Quinn dismissed the petty mockery as he carrie...</td>\n",
       "    </tr>\n",
       "    <tr>\n",
       "      <th>4</th>\n",
       "      <td>narration</td>\n",
       "      <td>Quinn slowed down his stride and stopped. He p...</td>\n",
       "    </tr>\n",
       "    <tr>\n",
       "      <th>...</th>\n",
       "      <td>...</td>\n",
       "      <td>...</td>\n",
       "    </tr>\n",
       "    <tr>\n",
       "      <th>61</th>\n",
       "      <td>mixed</td>\n",
       "      <td>couldn't take his eyes off of the shining book...</td>\n",
       "    </tr>\n",
       "    <tr>\n",
       "      <th>62</th>\n",
       "      <td>mixed</td>\n",
       "      <td>When the book reached its last page, it starte...</td>\n",
       "    </tr>\n",
       "    <tr>\n",
       "      <th>63</th>\n",
       "      <td>mixed</td>\n",
       "      <td>But just before he passed out, there was a sin...</td>\n",
       "    </tr>\n",
       "    <tr>\n",
       "      <th>64</th>\n",
       "      <td>mixed</td>\n",
       "      <td>&lt;Congratulations you have been granted the Va....</td>\n",
       "    </tr>\n",
       "    <tr>\n",
       "      <th>65</th>\n",
       "      <td>mixed</td>\n",
       "      <td>Unable to maintain consciousness long enough t...</td>\n",
       "    </tr>\n",
       "  </tbody>\n",
       "</table>\n",
       "<p>66 rows × 2 columns</p>\n",
       "</div>"
      ],
      "text/plain": [
       "         role                                          text_norm\n",
       "0       mixed                        Chapter 1: Just an old Book\n",
       "1    dialogue  \"Try not to die by tripping over yourself, Qui...\n",
       "2   narration  A boy shouted down the hallway, laughing uncon...\n",
       "3   narration  Quinn dismissed the petty mockery as he carrie...\n",
       "4   narration  Quinn slowed down his stride and stopped. He p...\n",
       "..        ...                                                ...\n",
       "61      mixed  couldn't take his eyes off of the shining book...\n",
       "62      mixed  When the book reached its last page, it starte...\n",
       "63      mixed  But just before he passed out, there was a sin...\n",
       "64      mixed  <Congratulations you have been granted the Va....\n",
       "65      mixed  Unable to maintain consciousness long enough t...\n",
       "\n",
       "[66 rows x 2 columns]"
      ]
     },
     "execution_count": 12,
     "metadata": {},
     "output_type": "execute_result"
    }
   ],
   "source": [
    "spans_df[[\"role\", \"text_norm\"]]"
   ]
  },
  {
   "cell_type": "code",
   "execution_count": null,
   "id": "c011e084",
   "metadata": {},
   "outputs": [],
   "source": []
  }
 ],
 "metadata": {
  "kernelspec": {
   "display_name": ".venv",
   "language": "python",
   "name": "python3"
  },
  "language_info": {
   "codemirror_mode": {
    "name": "ipython",
    "version": 3
   },
   "file_extension": ".py",
   "mimetype": "text/x-python",
   "name": "python",
   "nbconvert_exporter": "python",
   "pygments_lexer": "ipython3",
   "version": "3.11.13"
  }
 },
 "nbformat": 4,
 "nbformat_minor": 5
}
